{
  "nbformat": 4,
  "nbformat_minor": 0,
  "metadata": {
    "colab": {
      "provenance": []
    },
    "kernelspec": {
      "name": "python3",
      "display_name": "Python 3"
    },
    "language_info": {
      "name": "python"
    }
  },
  "cells": [
    {
      "cell_type": "code",
      "execution_count": 1,
      "metadata": {
        "id": "alWPP1MYVrZX"
      },
      "outputs": [],
      "source": [
        "# Import necessary libraries\n",
        "import csv\n",
        "import sqlite3\n",
        "import pandas as pd\n",
        "import matplotlib.pyplot as plt\n",
        "import matplotlib.dates as mdates\n",
        "import seaborn as sns"
      ]
    },
    {
      "cell_type": "code",
      "source": [
        "# Load SQL extension\n",
        "%load_ext sql"
      ],
      "metadata": {
        "id": "-KZC1pSjVtKy"
      },
      "execution_count": 2,
      "outputs": []
    },
    {
      "cell_type": "code",
      "source": [
        "# Connect to SQLite database\n",
        "con = sqlite3.connect(\"BudgetData.db\")\n",
        "cur = con.cursor()"
      ],
      "metadata": {
        "id": "3vD-HEVjVtN5"
      },
      "execution_count": 3,
      "outputs": []
    },
    {
      "cell_type": "code",
      "source": [
        "# Set up connection to SQLite database for SQL magic\n",
        "%sql sqlite:///BudgetData.db"
      ],
      "metadata": {
        "id": "91Hk4xJ-VtRK"
      },
      "execution_count": 4,
      "outputs": []
    },
    {
      "cell_type": "markdown",
      "source": [
        "## Define SQL queries to create tables and insert data\n"
      ],
      "metadata": {
        "id": "OBUUzzY2XGOp"
      }
    },
    {
      "cell_type": "code",
      "source": [
        "# Create Transactions table\n",
        "%%sql\n",
        "DROP TABLE IF EXISTS Transactions;\n",
        "CREATE TABLE Transactions (\n",
        "    Transcations_Id INTEGER PRIMARY KEY,\n",
        "    ExpenseOrIncome VARCHAR(20),\n",
        "    Amount REAL,\n",
        "    Date DATE,\n",
        "    Categories_Id INTEGER,\n",
        "    Users_Id INTEGER,\n",
        "    FOREIGN KEY (Categories_Id) REFERENCES Expense_Categories(Categories_Id),\n",
        "    FOREIGN KEY (Users_Id) REFERENCES Users(Users_Id)\n",
        ");\n",
        "\n",
        "/* Create Expense_Categories table */\n",
        "DROP TABLE IF EXISTS Expense_Categories;\n",
        "CREATE TABLE Expense_Categories (\n",
        "    Categories_Id INTEGER PRIMARY KEY,\n",
        "    Name TEXT\n",
        ");\n",
        "\n",
        "/* Create Users table */\n",
        "DROP TABLE IF EXISTS Users;\n",
        "CREATE TABLE Users (\n",
        "    Users_Id INTEGER PRIMARY KEY,\n",
        "    Username CHAR(40),\n",
        "    Password CHAR(10)\n",
        ");"
      ],
      "metadata": {
        "colab": {
          "base_uri": "https://localhost:8080/"
        },
        "id": "RZpAxdCVVtUK",
        "outputId": "27e78dcc-6c09-45f1-8603-1f9ce5567331"
      },
      "execution_count": 6,
      "outputs": [
        {
          "output_type": "stream",
          "name": "stdout",
          "text": [
            " * sqlite:///BudgetData.db\n",
            "Done.\n",
            "Done.\n",
            "Done.\n",
            "Done.\n",
            "Done.\n",
            "Done.\n"
          ]
        },
        {
          "output_type": "execute_result",
          "data": {
            "text/plain": [
              "[]"
            ]
          },
          "metadata": {},
          "execution_count": 6
        }
      ]
    },
    {
      "cell_type": "code",
      "source": [
        "# Insert data into tables\n",
        "%%sql\n",
        "INSERT INTO Transactions (Transcations_Id, ExpenseOrIncome, Amount, Date, Categories_Id, Users_Id) VALUES\n",
        "(1, 'expense', 50.00, '2024-05-01', 11, 21),\n",
        "(2, 'expense', 100.00, '2024-05-03', 12, 22),\n",
        "(3, 'income', 500.00, '2024-05-05', NULL, 21),\n",
        "(4, 'expense', 30.00, '2024-05-08', 13, 23),\n",
        "(5, 'expense', 20.00, '2024-05-08', 14, 22),\n",
        "(6, 'expense', 75.50, '2024-05-02', 15, 23),\n",
        "(7, 'income', 600.00, '2024-05-04', NULL, 22),\n",
        "(8, 'expense', 45.00, '2024-05-06', 11, 21),\n",
        "(9, 'income', 200.00, '2024-05-07', NULL, 22),\n",
        "(10, 'expense', 25.75, '2024-05-07', 14, 22);\n",
        "\n",
        "INSERT INTO Expense_Categories (Categories_Id, Name) VALUES\n",
        "(11, 'Groceries'),\n",
        "(12, 'Utilities'),\n",
        "(13, 'Entertainment'),\n",
        "(14, 'Transportation'),\n",
        "(15, 'Healthcare');\n",
        "\n",
        "INSERT INTO Users (Users_Id, Username, Password) VALUES\n",
        "(21, 'user1', 'password1'),\n",
        "(22, 'user2', 'password2'),\n",
        "(23, 'user3', 'password3');"
      ],
      "metadata": {
        "colab": {
          "base_uri": "https://localhost:8080/"
        },
        "id": "ZNODqalWVtXn",
        "outputId": "32c1264a-3af1-46f4-df3f-28d6d2d71b32"
      },
      "execution_count": 7,
      "outputs": [
        {
          "output_type": "stream",
          "name": "stdout",
          "text": [
            " * sqlite:///BudgetData.db\n",
            "10 rows affected.\n",
            "5 rows affected.\n",
            "3 rows affected.\n"
          ]
        },
        {
          "output_type": "execute_result",
          "data": {
            "text/plain": [
              "[]"
            ]
          },
          "metadata": {},
          "execution_count": 7
        }
      ]
    },
    {
      "cell_type": "markdown",
      "source": [
        "## SQL queries to check table structure and data"
      ],
      "metadata": {
        "id": "APaQu-M0XLlm"
      }
    },
    {
      "cell_type": "code",
      "source": [
        "# Check tables in the database\n",
        "%sql SELECT name FROM sqlite_master WHERE type='table'"
      ],
      "metadata": {
        "colab": {
          "base_uri": "https://localhost:8080/",
          "height": 139
        },
        "id": "aFeWjf_eVta8",
        "outputId": "17372b4d-04f2-44d2-8bcf-119682aaefc1"
      },
      "execution_count": 8,
      "outputs": [
        {
          "output_type": "stream",
          "name": "stdout",
          "text": [
            " * sqlite:///BudgetData.db\n",
            "Done.\n"
          ]
        },
        {
          "output_type": "execute_result",
          "data": {
            "text/plain": [
              "[('Transactions',), ('Expense_Categories',), ('Users',)]"
            ],
            "text/html": [
              "<table>\n",
              "    <thead>\n",
              "        <tr>\n",
              "            <th>name</th>\n",
              "        </tr>\n",
              "    </thead>\n",
              "    <tbody>\n",
              "        <tr>\n",
              "            <td>Transactions</td>\n",
              "        </tr>\n",
              "        <tr>\n",
              "            <td>Expense_Categories</td>\n",
              "        </tr>\n",
              "        <tr>\n",
              "            <td>Users</td>\n",
              "        </tr>\n",
              "    </tbody>\n",
              "</table>"
            ]
          },
          "metadata": {},
          "execution_count": 8
        }
      ]
    },
    {
      "cell_type": "code",
      "source": [
        "# Check structure of Transactions table\n",
        "%sql PRAGMA table_info(Transactions);"
      ],
      "metadata": {
        "colab": {
          "base_uri": "https://localhost:8080/",
          "height": 203
        },
        "id": "kPWp7pfsVteW",
        "outputId": "5eb4e1c3-e309-41c0-9d73-cf8932b62609"
      },
      "execution_count": 9,
      "outputs": [
        {
          "output_type": "stream",
          "name": "stdout",
          "text": [
            " * sqlite:///BudgetData.db\n",
            "Done.\n"
          ]
        },
        {
          "output_type": "execute_result",
          "data": {
            "text/plain": [
              "[(0, 'Transcations_Id', 'INTEGER', 0, None, 1),\n",
              " (1, 'ExpenseOrIncome', 'VARCHAR(20)', 0, None, 0),\n",
              " (2, 'Amount', 'REAL', 0, None, 0),\n",
              " (3, 'Date', 'DATE', 0, None, 0),\n",
              " (4, 'Categories_Id', 'INTEGER', 0, None, 0),\n",
              " (5, 'Users_Id', 'INTEGER', 0, None, 0)]"
            ],
            "text/html": [
              "<table>\n",
              "    <thead>\n",
              "        <tr>\n",
              "            <th>cid</th>\n",
              "            <th>name</th>\n",
              "            <th>type</th>\n",
              "            <th>notnull</th>\n",
              "            <th>dflt_value</th>\n",
              "            <th>pk</th>\n",
              "        </tr>\n",
              "    </thead>\n",
              "    <tbody>\n",
              "        <tr>\n",
              "            <td>0</td>\n",
              "            <td>Transcations_Id</td>\n",
              "            <td>INTEGER</td>\n",
              "            <td>0</td>\n",
              "            <td>None</td>\n",
              "            <td>1</td>\n",
              "        </tr>\n",
              "        <tr>\n",
              "            <td>1</td>\n",
              "            <td>ExpenseOrIncome</td>\n",
              "            <td>VARCHAR(20)</td>\n",
              "            <td>0</td>\n",
              "            <td>None</td>\n",
              "            <td>0</td>\n",
              "        </tr>\n",
              "        <tr>\n",
              "            <td>2</td>\n",
              "            <td>Amount</td>\n",
              "            <td>REAL</td>\n",
              "            <td>0</td>\n",
              "            <td>None</td>\n",
              "            <td>0</td>\n",
              "        </tr>\n",
              "        <tr>\n",
              "            <td>3</td>\n",
              "            <td>Date</td>\n",
              "            <td>DATE</td>\n",
              "            <td>0</td>\n",
              "            <td>None</td>\n",
              "            <td>0</td>\n",
              "        </tr>\n",
              "        <tr>\n",
              "            <td>4</td>\n",
              "            <td>Categories_Id</td>\n",
              "            <td>INTEGER</td>\n",
              "            <td>0</td>\n",
              "            <td>None</td>\n",
              "            <td>0</td>\n",
              "        </tr>\n",
              "        <tr>\n",
              "            <td>5</td>\n",
              "            <td>Users_Id</td>\n",
              "            <td>INTEGER</td>\n",
              "            <td>0</td>\n",
              "            <td>None</td>\n",
              "            <td>0</td>\n",
              "        </tr>\n",
              "    </tbody>\n",
              "</table>"
            ]
          },
          "metadata": {},
          "execution_count": 9
        }
      ]
    },
    {
      "cell_type": "code",
      "source": [
        "# Check structure of Expense_Categories table\n",
        "%sql PRAGMA table_info(Expense_Categories);"
      ],
      "metadata": {
        "colab": {
          "base_uri": "https://localhost:8080/",
          "height": 118
        },
        "id": "cGZLtEloVthz",
        "outputId": "51b04db3-2076-45f4-c552-067fa84e8ff1"
      },
      "execution_count": 10,
      "outputs": [
        {
          "output_type": "stream",
          "name": "stdout",
          "text": [
            " * sqlite:///BudgetData.db\n",
            "Done.\n"
          ]
        },
        {
          "output_type": "execute_result",
          "data": {
            "text/plain": [
              "[(0, 'Categories_Id', 'INTEGER', 0, None, 1), (1, 'Name', 'TEXT', 0, None, 0)]"
            ],
            "text/html": [
              "<table>\n",
              "    <thead>\n",
              "        <tr>\n",
              "            <th>cid</th>\n",
              "            <th>name</th>\n",
              "            <th>type</th>\n",
              "            <th>notnull</th>\n",
              "            <th>dflt_value</th>\n",
              "            <th>pk</th>\n",
              "        </tr>\n",
              "    </thead>\n",
              "    <tbody>\n",
              "        <tr>\n",
              "            <td>0</td>\n",
              "            <td>Categories_Id</td>\n",
              "            <td>INTEGER</td>\n",
              "            <td>0</td>\n",
              "            <td>None</td>\n",
              "            <td>1</td>\n",
              "        </tr>\n",
              "        <tr>\n",
              "            <td>1</td>\n",
              "            <td>Name</td>\n",
              "            <td>TEXT</td>\n",
              "            <td>0</td>\n",
              "            <td>None</td>\n",
              "            <td>0</td>\n",
              "        </tr>\n",
              "    </tbody>\n",
              "</table>"
            ]
          },
          "metadata": {},
          "execution_count": 10
        }
      ]
    },
    {
      "cell_type": "code",
      "source": [
        "# Check structure of Users table\n",
        "%sql PRAGMA table_info(Users);"
      ],
      "metadata": {
        "colab": {
          "base_uri": "https://localhost:8080/",
          "height": 139
        },
        "id": "hjpfAtP-VtnA",
        "outputId": "3fcc5d19-04fd-477f-995e-361821770a95"
      },
      "execution_count": 11,
      "outputs": [
        {
          "output_type": "stream",
          "name": "stdout",
          "text": [
            " * sqlite:///BudgetData.db\n",
            "Done.\n"
          ]
        },
        {
          "output_type": "execute_result",
          "data": {
            "text/plain": [
              "[(0, 'Users_Id', 'INTEGER', 0, None, 1),\n",
              " (1, 'Username', 'CHAR(40)', 0, None, 0),\n",
              " (2, 'Password', 'CHAR(10)', 0, None, 0)]"
            ],
            "text/html": [
              "<table>\n",
              "    <thead>\n",
              "        <tr>\n",
              "            <th>cid</th>\n",
              "            <th>name</th>\n",
              "            <th>type</th>\n",
              "            <th>notnull</th>\n",
              "            <th>dflt_value</th>\n",
              "            <th>pk</th>\n",
              "        </tr>\n",
              "    </thead>\n",
              "    <tbody>\n",
              "        <tr>\n",
              "            <td>0</td>\n",
              "            <td>Users_Id</td>\n",
              "            <td>INTEGER</td>\n",
              "            <td>0</td>\n",
              "            <td>None</td>\n",
              "            <td>1</td>\n",
              "        </tr>\n",
              "        <tr>\n",
              "            <td>1</td>\n",
              "            <td>Username</td>\n",
              "            <td>CHAR(40)</td>\n",
              "            <td>0</td>\n",
              "            <td>None</td>\n",
              "            <td>0</td>\n",
              "        </tr>\n",
              "        <tr>\n",
              "            <td>2</td>\n",
              "            <td>Password</td>\n",
              "            <td>CHAR(10)</td>\n",
              "            <td>0</td>\n",
              "            <td>None</td>\n",
              "            <td>0</td>\n",
              "        </tr>\n",
              "    </tbody>\n",
              "</table>"
            ]
          },
          "metadata": {},
          "execution_count": 11
        }
      ]
    },
    {
      "cell_type": "code",
      "source": [
        "# Check first 3 rows of Transactions table\n",
        "%sql SELECT * FROM Transactions Limit 3;"
      ],
      "metadata": {
        "colab": {
          "base_uri": "https://localhost:8080/",
          "height": 139
        },
        "id": "-IraxhSFXdKW",
        "outputId": "61330f8b-258c-4674-d2ae-9be374b0c29b"
      },
      "execution_count": 12,
      "outputs": [
        {
          "output_type": "stream",
          "name": "stdout",
          "text": [
            " * sqlite:///BudgetData.db\n",
            "Done.\n"
          ]
        },
        {
          "output_type": "execute_result",
          "data": {
            "text/plain": [
              "[(1, 'expense', 50.0, '2024-05-01', 11, 21),\n",
              " (2, 'expense', 100.0, '2024-05-03', 12, 22),\n",
              " (3, 'income', 500.0, '2024-05-05', None, 21)]"
            ],
            "text/html": [
              "<table>\n",
              "    <thead>\n",
              "        <tr>\n",
              "            <th>Transcations_Id</th>\n",
              "            <th>ExpenseOrIncome</th>\n",
              "            <th>Amount</th>\n",
              "            <th>Date</th>\n",
              "            <th>Categories_Id</th>\n",
              "            <th>Users_Id</th>\n",
              "        </tr>\n",
              "    </thead>\n",
              "    <tbody>\n",
              "        <tr>\n",
              "            <td>1</td>\n",
              "            <td>expense</td>\n",
              "            <td>50.0</td>\n",
              "            <td>2024-05-01</td>\n",
              "            <td>11</td>\n",
              "            <td>21</td>\n",
              "        </tr>\n",
              "        <tr>\n",
              "            <td>2</td>\n",
              "            <td>expense</td>\n",
              "            <td>100.0</td>\n",
              "            <td>2024-05-03</td>\n",
              "            <td>12</td>\n",
              "            <td>22</td>\n",
              "        </tr>\n",
              "        <tr>\n",
              "            <td>3</td>\n",
              "            <td>income</td>\n",
              "            <td>500.0</td>\n",
              "            <td>2024-05-05</td>\n",
              "            <td>None</td>\n",
              "            <td>21</td>\n",
              "        </tr>\n",
              "    </tbody>\n",
              "</table>"
            ]
          },
          "metadata": {},
          "execution_count": 12
        }
      ]
    },
    {
      "cell_type": "code",
      "source": [
        "# Check first 3 rows of Expense_Categories table\n",
        "%sql SELECT * FROM Expense_Categories;"
      ],
      "metadata": {
        "colab": {
          "base_uri": "https://localhost:8080/",
          "height": 182
        },
        "id": "GWHw4OPiXdNk",
        "outputId": "dfc3d04f-ba87-4ef0-d4a2-70e47fe85b43"
      },
      "execution_count": 13,
      "outputs": [
        {
          "output_type": "stream",
          "name": "stdout",
          "text": [
            " * sqlite:///BudgetData.db\n",
            "Done.\n"
          ]
        },
        {
          "output_type": "execute_result",
          "data": {
            "text/plain": [
              "[(11, 'Groceries'),\n",
              " (12, 'Utilities'),\n",
              " (13, 'Entertainment'),\n",
              " (14, 'Transportation'),\n",
              " (15, 'Healthcare')]"
            ],
            "text/html": [
              "<table>\n",
              "    <thead>\n",
              "        <tr>\n",
              "            <th>Categories_Id</th>\n",
              "            <th>Name</th>\n",
              "        </tr>\n",
              "    </thead>\n",
              "    <tbody>\n",
              "        <tr>\n",
              "            <td>11</td>\n",
              "            <td>Groceries</td>\n",
              "        </tr>\n",
              "        <tr>\n",
              "            <td>12</td>\n",
              "            <td>Utilities</td>\n",
              "        </tr>\n",
              "        <tr>\n",
              "            <td>13</td>\n",
              "            <td>Entertainment</td>\n",
              "        </tr>\n",
              "        <tr>\n",
              "            <td>14</td>\n",
              "            <td>Transportation</td>\n",
              "        </tr>\n",
              "        <tr>\n",
              "            <td>15</td>\n",
              "            <td>Healthcare</td>\n",
              "        </tr>\n",
              "    </tbody>\n",
              "</table>"
            ]
          },
          "metadata": {},
          "execution_count": 13
        }
      ]
    },
    {
      "cell_type": "code",
      "source": [
        "# Check first 3 rows of Users table\n",
        "%sql SELECT * FROM Users;"
      ],
      "metadata": {
        "colab": {
          "base_uri": "https://localhost:8080/",
          "height": 139
        },
        "id": "i5EVxo2BXdQ3",
        "outputId": "19dc2e51-4c50-479e-d185-2ec91ed13787"
      },
      "execution_count": 14,
      "outputs": [
        {
          "output_type": "stream",
          "name": "stdout",
          "text": [
            " * sqlite:///BudgetData.db\n",
            "Done.\n"
          ]
        },
        {
          "output_type": "execute_result",
          "data": {
            "text/plain": [
              "[(21, 'user1', 'password1'),\n",
              " (22, 'user2', 'password2'),\n",
              " (23, 'user3', 'password3')]"
            ],
            "text/html": [
              "<table>\n",
              "    <thead>\n",
              "        <tr>\n",
              "            <th>Users_Id</th>\n",
              "            <th>Username</th>\n",
              "            <th>Password</th>\n",
              "        </tr>\n",
              "    </thead>\n",
              "    <tbody>\n",
              "        <tr>\n",
              "            <td>21</td>\n",
              "            <td>user1</td>\n",
              "            <td>password1</td>\n",
              "        </tr>\n",
              "        <tr>\n",
              "            <td>22</td>\n",
              "            <td>user2</td>\n",
              "            <td>password2</td>\n",
              "        </tr>\n",
              "        <tr>\n",
              "            <td>23</td>\n",
              "            <td>user3</td>\n",
              "            <td>password3</td>\n",
              "        </tr>\n",
              "    </tbody>\n",
              "</table>"
            ]
          },
          "metadata": {},
          "execution_count": 14
        }
      ]
    },
    {
      "cell_type": "markdown",
      "source": [
        "## Analysis Section"
      ],
      "metadata": {
        "id": "vSceATZlXseE"
      }
    },
    {
      "cell_type": "markdown",
      "source": [
        "### Expense Analysis\n",
        "\n",
        "*   What is the total amount spent on expenses?\n",
        "*   Which category has the highest total expenses?\n",
        "*   What is the average amount spent per expense transaction?"
      ],
      "metadata": {
        "id": "urMvGKwZXsw_"
      }
    },
    {
      "cell_type": "code",
      "source": [
        "# Total amount spent on expenses\n",
        "%sql SELECT SUM(Amount) AS Total_Expenses_Amount FROM Transactions WHERE ExpenseOrIncome = \"expense\";"
      ],
      "metadata": {
        "colab": {
          "base_uri": "https://localhost:8080/",
          "height": 96
        },
        "id": "6QsTQ446XdT3",
        "outputId": "c0566ffd-1c1d-43ec-d6e4-e78081a508f3"
      },
      "execution_count": 19,
      "outputs": [
        {
          "output_type": "stream",
          "name": "stdout",
          "text": [
            " * sqlite:///BudgetData.db\n",
            "Done.\n"
          ]
        },
        {
          "output_type": "execute_result",
          "data": {
            "text/plain": [
              "[(346.25,)]"
            ],
            "text/html": [
              "<table>\n",
              "    <thead>\n",
              "        <tr>\n",
              "            <th>Total_Expenses_Amount</th>\n",
              "        </tr>\n",
              "    </thead>\n",
              "    <tbody>\n",
              "        <tr>\n",
              "            <td>346.25</td>\n",
              "        </tr>\n",
              "    </tbody>\n",
              "</table>"
            ]
          },
          "metadata": {},
          "execution_count": 19
        }
      ]
    },
    {
      "cell_type": "code",
      "source": [
        "# Category with the highest total expenses\n",
        "%%sql\n",
        "SELECT T.Transcations_Id, EC.Categories_Id, EC.Name, SUM(T.Amount) AS \"SumOfAmount\"\n",
        "FROM Expense_Categories AS EC\n",
        "LEFT OUTER JOIN Transactions AS T\n",
        "ON T.Categories_Id = EC.Categories_Id\n",
        "GROUP BY EC.Name\n",
        "ORDER BY SumOfAmount DESC\n",
        "LIMIT 1;"
      ],
      "metadata": {
        "colab": {
          "base_uri": "https://localhost:8080/",
          "height": 96
        },
        "id": "yF1Kp_r6XdXe",
        "outputId": "34a187d8-5a7b-4d73-e59d-35eb19b15d62"
      },
      "execution_count": 16,
      "outputs": [
        {
          "output_type": "stream",
          "name": "stdout",
          "text": [
            " * sqlite:///BudgetData.db\n",
            "Done.\n"
          ]
        },
        {
          "output_type": "execute_result",
          "data": {
            "text/plain": [
              "[(2, 12, 'Utilities', 100.0)]"
            ],
            "text/html": [
              "<table>\n",
              "    <thead>\n",
              "        <tr>\n",
              "            <th>Transcations_Id</th>\n",
              "            <th>Categories_Id</th>\n",
              "            <th>Name</th>\n",
              "            <th>SumOfAmount</th>\n",
              "        </tr>\n",
              "    </thead>\n",
              "    <tbody>\n",
              "        <tr>\n",
              "            <td>2</td>\n",
              "            <td>12</td>\n",
              "            <td>Utilities</td>\n",
              "            <td>100.0</td>\n",
              "        </tr>\n",
              "    </tbody>\n",
              "</table>"
            ]
          },
          "metadata": {},
          "execution_count": 16
        }
      ]
    },
    {
      "cell_type": "code",
      "source": [
        "# Average amount spent per expense transaction\n",
        "%%sql\n",
        "SELECT ExpenseOrIncome, Round(AVG(Amount),2) AS AVG_Amount\n",
        "FROM Transactions\n",
        "WHERE ExpenseOrIncome = \"expense\";"
      ],
      "metadata": {
        "colab": {
          "base_uri": "https://localhost:8080/",
          "height": 96
        },
        "id": "UWuKS_-8Vtqh",
        "outputId": "4c0134cf-853a-4b35-baf3-89a34690e96e"
      },
      "execution_count": 17,
      "outputs": [
        {
          "output_type": "stream",
          "name": "stdout",
          "text": [
            " * sqlite:///BudgetData.db\n",
            "Done.\n"
          ]
        },
        {
          "output_type": "execute_result",
          "data": {
            "text/plain": [
              "[('expense', 49.46)]"
            ],
            "text/html": [
              "<table>\n",
              "    <thead>\n",
              "        <tr>\n",
              "            <th>ExpenseOrIncome</th>\n",
              "            <th>AVG_Amount</th>\n",
              "        </tr>\n",
              "    </thead>\n",
              "    <tbody>\n",
              "        <tr>\n",
              "            <td>expense</td>\n",
              "            <td>49.46</td>\n",
              "        </tr>\n",
              "    </tbody>\n",
              "</table>"
            ]
          },
          "metadata": {},
          "execution_count": 17
        }
      ]
    },
    {
      "cell_type": "markdown",
      "source": [
        "### Income Analysis:\n",
        "\n",
        "*   What is the total income earned?\n",
        "*   How does the expense compare to income (By Percentage)?\n",
        "*   Is there any trend in the income over time?"
      ],
      "metadata": {
        "id": "gJa9whmDYIwF"
      }
    },
    {
      "cell_type": "code",
      "source": [
        "# Total income earned\n",
        "%sql SELECT SUM(Amount) AS Total_Income FROM Transactions WHERE ExpenseOrIncome = \"income\";"
      ],
      "metadata": {
        "colab": {
          "base_uri": "https://localhost:8080/",
          "height": 96
        },
        "id": "LUNKQkDTX_jo",
        "outputId": "91a12fd2-a24c-42a2-8922-18dd123f1bf5"
      },
      "execution_count": 18,
      "outputs": [
        {
          "output_type": "stream",
          "name": "stdout",
          "text": [
            " * sqlite:///BudgetData.db\n",
            "Done.\n"
          ]
        },
        {
          "output_type": "execute_result",
          "data": {
            "text/plain": [
              "[(1300.0,)]"
            ],
            "text/html": [
              "<table>\n",
              "    <thead>\n",
              "        <tr>\n",
              "            <th>Total_Income</th>\n",
              "        </tr>\n",
              "    </thead>\n",
              "    <tbody>\n",
              "        <tr>\n",
              "            <td>1300.0</td>\n",
              "        </tr>\n",
              "    </tbody>\n",
              "</table>"
            ]
          },
          "metadata": {},
          "execution_count": 18
        }
      ]
    },
    {
      "cell_type": "code",
      "source": [
        "# Expense compared to income (Percentage)\n",
        "%%sql\n",
        "SELECT ROUND((TotalExpense / TotalIncome) * 100, 2) || '%' AS PercentageSpentOnExpenses\n",
        "FROM (\n",
        "    SELECT\n",
        "        (SELECT SUM(Amount) FROM Transactions WHERE ExpenseOrIncome = 'income') AS TotalIncome,\n",
        "        (SELECT SUM(Amount) FROM Transactions WHERE ExpenseOrIncome = 'expense') AS TotalExpense\n",
        ");"
      ],
      "metadata": {
        "colab": {
          "base_uri": "https://localhost:8080/",
          "height": 96
        },
        "id": "aefOhXMVX_m_",
        "outputId": "947eefcf-7781-4af7-85f1-d316b906b945"
      },
      "execution_count": 20,
      "outputs": [
        {
          "output_type": "stream",
          "name": "stdout",
          "text": [
            " * sqlite:///BudgetData.db\n",
            "Done.\n"
          ]
        },
        {
          "output_type": "execute_result",
          "data": {
            "text/plain": [
              "[('26.63%',)]"
            ],
            "text/html": [
              "<table>\n",
              "    <thead>\n",
              "        <tr>\n",
              "            <th>PercentageSpentOnExpenses</th>\n",
              "        </tr>\n",
              "    </thead>\n",
              "    <tbody>\n",
              "        <tr>\n",
              "            <td>26.63%</td>\n",
              "        </tr>\n",
              "    </tbody>\n",
              "</table>"
            ]
          },
          "metadata": {},
          "execution_count": 20
        }
      ]
    },
    {
      "cell_type": "code",
      "source": [
        "# Trend in income over time\n",
        "%%sql\n",
        "SELECT Date, SUM(Amount) as TotalIncome\n",
        "FROM Transactions\n",
        "WHERE ExpenseOrIncome = \"income\"\n",
        "GROUP BY Date\n",
        "ORDER BY Date;"
      ],
      "metadata": {
        "colab": {
          "base_uri": "https://localhost:8080/",
          "height": 139
        },
        "id": "c533pkrcX_q0",
        "outputId": "9455ae14-e5c3-46fe-9871-d3fb376ce272"
      },
      "execution_count": 21,
      "outputs": [
        {
          "output_type": "stream",
          "name": "stdout",
          "text": [
            " * sqlite:///BudgetData.db\n",
            "Done.\n"
          ]
        },
        {
          "output_type": "execute_result",
          "data": {
            "text/plain": [
              "[('2024-05-04', 600.0), ('2024-05-05', 500.0), ('2024-05-07', 200.0)]"
            ],
            "text/html": [
              "<table>\n",
              "    <thead>\n",
              "        <tr>\n",
              "            <th>Date</th>\n",
              "            <th>TotalIncome</th>\n",
              "        </tr>\n",
              "    </thead>\n",
              "    <tbody>\n",
              "        <tr>\n",
              "            <td>2024-05-04</td>\n",
              "            <td>600.0</td>\n",
              "        </tr>\n",
              "        <tr>\n",
              "            <td>2024-05-05</td>\n",
              "            <td>500.0</td>\n",
              "        </tr>\n",
              "        <tr>\n",
              "            <td>2024-05-07</td>\n",
              "            <td>200.0</td>\n",
              "        </tr>\n",
              "    </tbody>\n",
              "</table>"
            ]
          },
          "metadata": {},
          "execution_count": 21
        }
      ]
    },
    {
      "cell_type": "markdown",
      "source": [
        "###Category Analysis:\n",
        "\n",
        "*   Which category has the highest and lowest spending?\n",
        "*   What is the distribution of spending across different categories over total income?\n",
        "*   Are there any categories where spending has significantly increased or decreased over time?"
      ],
      "metadata": {
        "id": "PavwADh3Ym6a"
      }
    },
    {
      "cell_type": "code",
      "source": [
        "# Category with highest and lowest spending\n",
        "%%sql\n",
        "WITH CategorySpending AS (\n",
        "    SELECT EC.Name, SUM(T.Amount) AS TotalAmount\n",
        "    FROM Expense_Categories AS EC\n",
        "    LEFT JOIN Transactions AS T ON EC.Categories_Id = T.Categories_Id\n",
        "    GROUP BY EC.Name\n",
        ")\n",
        "SELECT\n",
        "    (SELECT Name FROM CategorySpending WHERE TotalAmount = (SELECT MAX(TotalAmount) FROM CategorySpending)) AS HighestSpendingCategory,\n",
        "    (SELECT MAX(TotalAmount) FROM CategorySpending) AS HighestSpendingAmount,\n",
        "    (SELECT Name FROM CategorySpending WHERE TotalAmount = (SELECT MIN(TotalAmount) FROM CategorySpending)) AS LowestSpendingCategory,\n",
        "    (SELECT MIN(TotalAmount) FROM CategorySpending) AS LowestSpendingAmount;"
      ],
      "metadata": {
        "colab": {
          "base_uri": "https://localhost:8080/",
          "height": 96
        },
        "id": "6fzbmIm0X_zE",
        "outputId": "ee0cdda5-f42f-4014-9afe-6afd42d6e160"
      },
      "execution_count": 22,
      "outputs": [
        {
          "output_type": "stream",
          "name": "stdout",
          "text": [
            " * sqlite:///BudgetData.db\n",
            "Done.\n"
          ]
        },
        {
          "output_type": "execute_result",
          "data": {
            "text/plain": [
              "[('Utilities', 100.0, 'Entertainment', 30.0)]"
            ],
            "text/html": [
              "<table>\n",
              "    <thead>\n",
              "        <tr>\n",
              "            <th>HighestSpendingCategory</th>\n",
              "            <th>HighestSpendingAmount</th>\n",
              "            <th>LowestSpendingCategory</th>\n",
              "            <th>LowestSpendingAmount</th>\n",
              "        </tr>\n",
              "    </thead>\n",
              "    <tbody>\n",
              "        <tr>\n",
              "            <td>Utilities</td>\n",
              "            <td>100.0</td>\n",
              "            <td>Entertainment</td>\n",
              "            <td>30.0</td>\n",
              "        </tr>\n",
              "    </tbody>\n",
              "</table>"
            ]
          },
          "metadata": {},
          "execution_count": 22
        }
      ]
    },
    {
      "cell_type": "code",
      "source": [
        "# Distribution of spending across different categories over total income\n",
        "%%sql\n",
        "SELECT\n",
        "    EC.Name AS Category,\n",
        "    SUM(T.Amount) AS TotalAmount,\n",
        "    ROUND((SUM(Amount) / (SELECT SUM(Amount) FROM Transactions WHERE ExpenseOrIncome = \"income\")) * 100, 2) || '%' AS SpendingPercentage\n",
        "FROM Expense_Categories AS EC\n",
        "LEFT JOIN Transactions AS T ON EC.Categories_Id = T.Categories_Id\n",
        "GROUP BY EC.Name\n",
        "ORDER BY SpendingPercentage DESC;"
      ],
      "metadata": {
        "colab": {
          "base_uri": "https://localhost:8080/",
          "height": 182
        },
        "id": "-FaU6cn_X_2A",
        "outputId": "f066eb7e-394d-4aad-9bcd-f05c96eb8f83"
      },
      "execution_count": 23,
      "outputs": [
        {
          "output_type": "stream",
          "name": "stdout",
          "text": [
            " * sqlite:///BudgetData.db\n",
            "Done.\n"
          ]
        },
        {
          "output_type": "execute_result",
          "data": {
            "text/plain": [
              "[('Utilities', 100.0, '7.69%'),\n",
              " ('Groceries', 95.0, '7.31%'),\n",
              " ('Healthcare', 75.5, '5.81%'),\n",
              " ('Transportation', 45.75, '3.52%'),\n",
              " ('Entertainment', 30.0, '2.31%')]"
            ],
            "text/html": [
              "<table>\n",
              "    <thead>\n",
              "        <tr>\n",
              "            <th>Category</th>\n",
              "            <th>TotalAmount</th>\n",
              "            <th>SpendingPercentage</th>\n",
              "        </tr>\n",
              "    </thead>\n",
              "    <tbody>\n",
              "        <tr>\n",
              "            <td>Utilities</td>\n",
              "            <td>100.0</td>\n",
              "            <td>7.69%</td>\n",
              "        </tr>\n",
              "        <tr>\n",
              "            <td>Groceries</td>\n",
              "            <td>95.0</td>\n",
              "            <td>7.31%</td>\n",
              "        </tr>\n",
              "        <tr>\n",
              "            <td>Healthcare</td>\n",
              "            <td>75.5</td>\n",
              "            <td>5.81%</td>\n",
              "        </tr>\n",
              "        <tr>\n",
              "            <td>Transportation</td>\n",
              "            <td>45.75</td>\n",
              "            <td>3.52%</td>\n",
              "        </tr>\n",
              "        <tr>\n",
              "            <td>Entertainment</td>\n",
              "            <td>30.0</td>\n",
              "            <td>2.31%</td>\n",
              "        </tr>\n",
              "    </tbody>\n",
              "</table>"
            ]
          },
          "metadata": {},
          "execution_count": 23
        }
      ]
    },
    {
      "cell_type": "code",
      "source": [
        "# Spending patterns over time\n",
        "\n",
        "%%sql\n",
        "SELECT\n",
        "    EC.Name AS Category,\n",
        "    T.Date AS TransactionDate,\n",
        "    SUM(T.Amount) AS TotalAmount\n",
        "FROM Expense_Categories AS EC\n",
        "LEFT JOIN Transactions AS T ON EC.Categories_Id = T.Categories_Id\n",
        "GROUP BY EC.Name, T.Date\n",
        "ORDER BY EC.Name, T.Date;"
      ],
      "metadata": {
        "colab": {
          "base_uri": "https://localhost:8080/",
          "height": 225
        },
        "id": "M1SW3Ct8X_5W",
        "outputId": "630a6931-323e-46a0-dbab-2ecf9ab6c46d"
      },
      "execution_count": 24,
      "outputs": [
        {
          "output_type": "stream",
          "name": "stdout",
          "text": [
            " * sqlite:///BudgetData.db\n",
            "Done.\n"
          ]
        },
        {
          "output_type": "execute_result",
          "data": {
            "text/plain": [
              "[('Entertainment', '2024-05-08', 30.0),\n",
              " ('Groceries', '2024-05-01', 50.0),\n",
              " ('Groceries', '2024-05-06', 45.0),\n",
              " ('Healthcare', '2024-05-02', 75.5),\n",
              " ('Transportation', '2024-05-07', 25.75),\n",
              " ('Transportation', '2024-05-08', 20.0),\n",
              " ('Utilities', '2024-05-03', 100.0)]"
            ],
            "text/html": [
              "<table>\n",
              "    <thead>\n",
              "        <tr>\n",
              "            <th>Category</th>\n",
              "            <th>TransactionDate</th>\n",
              "            <th>TotalAmount</th>\n",
              "        </tr>\n",
              "    </thead>\n",
              "    <tbody>\n",
              "        <tr>\n",
              "            <td>Entertainment</td>\n",
              "            <td>2024-05-08</td>\n",
              "            <td>30.0</td>\n",
              "        </tr>\n",
              "        <tr>\n",
              "            <td>Groceries</td>\n",
              "            <td>2024-05-01</td>\n",
              "            <td>50.0</td>\n",
              "        </tr>\n",
              "        <tr>\n",
              "            <td>Groceries</td>\n",
              "            <td>2024-05-06</td>\n",
              "            <td>45.0</td>\n",
              "        </tr>\n",
              "        <tr>\n",
              "            <td>Healthcare</td>\n",
              "            <td>2024-05-02</td>\n",
              "            <td>75.5</td>\n",
              "        </tr>\n",
              "        <tr>\n",
              "            <td>Transportation</td>\n",
              "            <td>2024-05-07</td>\n",
              "            <td>25.75</td>\n",
              "        </tr>\n",
              "        <tr>\n",
              "            <td>Transportation</td>\n",
              "            <td>2024-05-08</td>\n",
              "            <td>20.0</td>\n",
              "        </tr>\n",
              "        <tr>\n",
              "            <td>Utilities</td>\n",
              "            <td>2024-05-03</td>\n",
              "            <td>100.0</td>\n",
              "        </tr>\n",
              "    </tbody>\n",
              "</table>"
            ]
          },
          "metadata": {},
          "execution_count": 24
        }
      ]
    },
    {
      "cell_type": "markdown",
      "source": [
        "###User Analysis:\n",
        "\n",
        "*   How many users are there in the dataset?\n",
        "*   What is the distribution of transactions among different users?\n",
        "*   Are there any users who have exceptionally high or low spending?"
      ],
      "metadata": {
        "id": "jf7dK3OGY3Fn"
      }
    },
    {
      "cell_type": "code",
      "source": [
        "# Number of users in the dataset\n",
        "%sql SELECT COUNT(Users_Id) AS Total_Number_Of_Users FROM Users;"
      ],
      "metadata": {
        "colab": {
          "base_uri": "https://localhost:8080/",
          "height": 96
        },
        "id": "etz-vIq9X_8x",
        "outputId": "5a203330-59a7-4839-da26-f658955511bd"
      },
      "execution_count": 25,
      "outputs": [
        {
          "output_type": "stream",
          "name": "stdout",
          "text": [
            " * sqlite:///BudgetData.db\n",
            "Done.\n"
          ]
        },
        {
          "output_type": "execute_result",
          "data": {
            "text/plain": [
              "[(3,)]"
            ],
            "text/html": [
              "<table>\n",
              "    <thead>\n",
              "        <tr>\n",
              "            <th>Total_Number_Of_Users</th>\n",
              "        </tr>\n",
              "    </thead>\n",
              "    <tbody>\n",
              "        <tr>\n",
              "            <td>3</td>\n",
              "        </tr>\n",
              "    </tbody>\n",
              "</table>"
            ]
          },
          "metadata": {},
          "execution_count": 25
        }
      ]
    },
    {
      "cell_type": "code",
      "source": [
        "# Distribution of transactions among different users\n",
        "%%sql\n",
        "SELECT U.Users_Id, U.Username,\n",
        "       SUM(Amount) AS SpendPerPerson\n",
        "FROM Users AS U LEFT OUTER JOIN Transactions AS T\n",
        "ON T.Users_Id = U.Users_Id\n",
        "WHERE T.ExpenseOrIncome = \"expense\"\n",
        "GROUP BY U.Users_Id;"
      ],
      "metadata": {
        "colab": {
          "base_uri": "https://localhost:8080/",
          "height": 139
        },
        "id": "vIWHPd8PX__z",
        "outputId": "1c3747fb-f049-45da-d333-add2ac48989a"
      },
      "execution_count": 26,
      "outputs": [
        {
          "output_type": "stream",
          "name": "stdout",
          "text": [
            " * sqlite:///BudgetData.db\n",
            "Done.\n"
          ]
        },
        {
          "output_type": "execute_result",
          "data": {
            "text/plain": [
              "[(21, 'user1', 95.0), (22, 'user2', 145.75), (23, 'user3', 105.5)]"
            ],
            "text/html": [
              "<table>\n",
              "    <thead>\n",
              "        <tr>\n",
              "            <th>Users_Id</th>\n",
              "            <th>Username</th>\n",
              "            <th>SpendPerPerson</th>\n",
              "        </tr>\n",
              "    </thead>\n",
              "    <tbody>\n",
              "        <tr>\n",
              "            <td>21</td>\n",
              "            <td>user1</td>\n",
              "            <td>95.0</td>\n",
              "        </tr>\n",
              "        <tr>\n",
              "            <td>22</td>\n",
              "            <td>user2</td>\n",
              "            <td>145.75</td>\n",
              "        </tr>\n",
              "        <tr>\n",
              "            <td>23</td>\n",
              "            <td>user3</td>\n",
              "            <td>105.5</td>\n",
              "        </tr>\n",
              "    </tbody>\n",
              "</table>"
            ]
          },
          "metadata": {},
          "execution_count": 26
        }
      ]
    },
    {
      "cell_type": "code",
      "source": [
        "# Users with exceptionally high or low spending\n",
        "%%sql\n",
        "SELECT\n",
        "    (SELECT U1.Username || '($ ' || SUM(T1.Amount) || ')'\n",
        "     FROM Users AS U1\n",
        "     LEFT JOIN Transactions AS T1 ON U1.Users_Id = T1.Users_Id\n",
        "     WHERE T1.ExpenseOrIncome = 'expense'\n",
        "     GROUP BY U1.Users_Id\n",
        "     ORDER BY SUM(T1.Amount) DESC\n",
        "     LIMIT 1) AS HighestSpender,\n",
        "\n",
        "    (SELECT U2.Username || '($ ' || SUM(T2.Amount) || ')'\n",
        "     FROM Users AS U2\n",
        "     LEFT JOIN Transactions AS T2 ON U2.Users_Id = T2.Users_Id\n",
        "     WHERE T2.ExpenseOrIncome = 'expense'\n",
        "     GROUP BY U2.Users_Id\n",
        "     ORDER BY SUM(T2.Amount) ASC\n",
        "     LIMIT 1) AS LowestSpender;"
      ],
      "metadata": {
        "colab": {
          "base_uri": "https://localhost:8080/",
          "height": 96
        },
        "id": "BPo1Lp2IYAC-",
        "outputId": "2e3e6e66-cad5-45c5-a736-312c2f01020e"
      },
      "execution_count": 27,
      "outputs": [
        {
          "output_type": "stream",
          "name": "stdout",
          "text": [
            " * sqlite:///BudgetData.db\n",
            "Done.\n"
          ]
        },
        {
          "output_type": "execute_result",
          "data": {
            "text/plain": [
              "[('user2($ 145.75)', 'user1($ 95.0)')]"
            ],
            "text/html": [
              "<table>\n",
              "    <thead>\n",
              "        <tr>\n",
              "            <th>HighestSpender</th>\n",
              "            <th>LowestSpender</th>\n",
              "        </tr>\n",
              "    </thead>\n",
              "    <tbody>\n",
              "        <tr>\n",
              "            <td>user2($ 145.75)</td>\n",
              "            <td>user1($ 95.0)</td>\n",
              "        </tr>\n",
              "    </tbody>\n",
              "</table>"
            ]
          },
          "metadata": {},
          "execution_count": 27
        }
      ]
    },
    {
      "cell_type": "markdown",
      "source": [
        "#Date Analysis:\n",
        "\n",
        "*   How does spending vary over time (e.g., monthly, quarterly) and are there any patterns or trends in spending based on the date?"
      ],
      "metadata": {
        "id": "ASI2j6muZHik"
      }
    },
    {
      "cell_type": "code",
      "source": [
        "# Spending over time\n",
        "Expense_Over_Time = %sql SELECT SUM(Amount) AS Expense_Amount, Date FROM Transactions WHERE ExpenseOrIncome = \"expense\" GROUP BY Date ORDER BY Date;"
      ],
      "metadata": {
        "colab": {
          "base_uri": "https://localhost:8080/"
        },
        "id": "xDsXV9RTZIAf",
        "outputId": "ad61b39a-aff9-4535-9e9f-29123182051c"
      },
      "execution_count": 28,
      "outputs": [
        {
          "output_type": "stream",
          "name": "stdout",
          "text": [
            " * sqlite:///BudgetData.db\n",
            "Done.\n"
          ]
        }
      ]
    },
    {
      "cell_type": "code",
      "source": [
        "# Convert query result to DataFrame\n",
        "df = Expense_Over_Time.DataFrame()"
      ],
      "metadata": {
        "id": "FE3KoPJdZIZg"
      },
      "execution_count": 29,
      "outputs": []
    },
    {
      "cell_type": "code",
      "source": [
        "# Set Seaborn style\n",
        "sns.set(style=\"whitegrid\")\n",
        "\n",
        "# Create a new column for formatted date\n",
        "df['Formatted_Date'] = df['Date'].dt.strftime('%Y-%B-%d')\n",
        "\n",
        "# Create the line plot\n",
        "plt.figure(figsize=(10, 6))\n",
        "plot = sns.lineplot(x='Formatted_Date', y='Expense_Amount', data=df, color='skyblue', marker='o')\n",
        "\n",
        "# Set labels and title\n",
        "plot.set_xlabel('Date')\n",
        "plot.set_ylabel('Expense Amount')\n",
        "plot.set_title('Total Expenses Over Time')\n",
        "\n",
        "# Rotate x-axis labels for better readability\n",
        "plt.xticks(rotation=45)\n",
        "\n",
        "# Add gridlines\n",
        "plt.grid(True)\n",
        "\n",
        "# Show the plot\n",
        "plt.tight_layout()\n",
        "plt.show()"
      ],
      "metadata": {
        "colab": {
          "base_uri": "https://localhost:8080/",
          "height": 601
        },
        "id": "sHhAFcnVZIWr",
        "outputId": "b1f06e57-5b85-4031-a697-ed7751f64475"
      },
      "execution_count": 31,
      "outputs": [
        {
          "output_type": "display_data",
          "data": {
            "text/plain": [
              "<Figure size 1000x600 with 1 Axes>"
            ],
            "image/png": "[encoded data removed]"
          },
          "metadata": {}
        }
      ]
    },
    {
      "cell_type": "code",
      "source": [],
      "metadata": {
        "id": "uRkqoxhqZIc1"
      },
      "execution_count": null,
      "outputs": []
    }
  ]
}